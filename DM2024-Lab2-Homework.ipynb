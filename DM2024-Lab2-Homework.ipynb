{
 "cells": [
  {
   "cell_type": "markdown",
   "metadata": {},
   "source": [
    "### Student Information\n",
    "Name: 許人中\n",
    "\n",
    "Student ID: M133010052\n",
    "\n",
    "GitHub ID: JamesHsu1221\n",
    "\n",
    "Kaggle name: Hsu, Jen-Chung\n",
    "\n",
    "Kaggle private scoreboard snapshot:\n",
    "![pic0.png](img/pic0.png)"
   ]
  },
  {
   "cell_type": "markdown",
   "metadata": {},
   "source": [
    "---"
   ]
  },
  {
   "cell_type": "markdown",
   "metadata": {},
   "source": [
    "### Instructions"
   ]
  },
  {
   "cell_type": "markdown",
   "metadata": {},
   "source": [
    "1. First: __This part is worth 30% of your grade.__ Do the **take home exercises** in the [DM2024-Lab2-master Repo](https://github.com/didiersalazar/DM2024-Lab2-Master). You may need to copy some cells from the Lab notebook to this notebook. \n",
    "\n",
    "\n",
    "2. Second: __This part is worth 30% of your grade.__ Participate in the in-class [Kaggle Competition](https://www.kaggle.com/competitions/dm-2024-isa-5810-lab-2-homework) regarding Emotion Recognition on Twitter by this link: https://www.kaggle.com/competitions/dm-2024-isa-5810-lab-2-homework. The scoring will be given according to your place in the Private Leaderboard ranking: \n",
    "    - **Bottom 40%**: Get 20% of the 30% available for this section.\n",
    "\n",
    "    - **Top 41% - 100%**: Get (0.6N + 1 - x) / (0.6N) * 10 + 20 points, where N is the total number of participants, and x is your rank. (ie. If there are 100 participants and you rank 3rd your score will be (0.6 * 100 + 1 - 3) / (0.6 * 100) * 10 + 20 = 29.67% out of 30%.)   \n",
    "    Submit your last submission **BEFORE the deadline (Nov. 26th, 11:59 pm, Tuesday)**. Make sure to take a screenshot of your position at the end of the competition and store it as '''pic0.png''' under the **img** folder of this repository and rerun the cell **Student Information**.\n",
    "    \n",
    "\n",
    "3. Third: __This part is worth 30% of your grade.__ A report of your work developing the model for the competition (You can use code and comment on it). This report should include what your preprocessing steps, the feature engineering steps and an explanation of your model. You can also mention different things you tried and insights you gained. \n",
    "\n",
    "\n",
    "4. Fourth: __This part is worth 10% of your grade.__ It's hard for us to follow if your code is messy :'(, so please **tidy up your notebook**.\n",
    "\n",
    "\n",
    "Upload your files to your repository then submit the link to it on the corresponding e-learn assignment.\n",
    "\n",
    "Make sure to commit and save your changes to your repository __BEFORE the deadline (Nov. 26th, 11:59 pm, Tuesday)__. "
   ]
  },
  {
   "cell_type": "markdown",
   "metadata": {},
   "source": [
    "_____________________________"
   ]
  },
  {
   "cell_type": "markdown",
   "metadata": {},
   "source": [
    "# Kaggle Competition Report"
   ]
  },
  {
   "cell_type": "markdown",
   "metadata": {},
   "source": [
    "## Loading data and Organize information"
   ]
  },
  {
   "cell_type": "code",
   "execution_count": 1,
   "metadata": {},
   "outputs": [
    {
     "name": "stdout",
     "output_type": "stream",
     "text": [
      "   _score          _index                                            _source  \\\n",
      "0     391  hashtag_tweets  {'tweet': {'hashtags': ['Snapchat'], 'tweet_id...   \n",
      "1     433  hashtag_tweets  {'tweet': {'hashtags': ['freepress', 'TrumpLeg...   \n",
      "2     232  hashtag_tweets  {'tweet': {'hashtags': ['bibleverse'], 'tweet_...   \n",
      "3     376  hashtag_tweets  {'tweet': {'hashtags': [], 'tweet_id': '0x1cd5...   \n",
      "4     989  hashtag_tweets  {'tweet': {'hashtags': [], 'tweet_id': '0x2de2...   \n",
      "\n",
      "            _crawldate   _type  \n",
      "0  2015-05-23 11:42:47  tweets  \n",
      "1  2016-01-28 04:52:09  tweets  \n",
      "2  2017-12-25 04:39:20  tweets  \n",
      "3  2016-01-24 23:53:05  tweets  \n",
      "4  2016-01-08 17:18:59  tweets  \n"
     ]
    }
   ],
   "source": [
    "import pandas as pd\n",
    "\n",
    "origin_df = pd.read_json('data.json', lines=True)\n",
    "identification = pd.read_csv('data_identification.csv')\n",
    "emotion = pd.read_csv('emotion.csv')\n",
    "\n",
    "print(origin_df.head())"
   ]
  },
  {
   "cell_type": "markdown",
   "metadata": {},
   "source": [
    "Extract feature 'tweet_id' and 'text' from .json"
   ]
  },
  {
   "cell_type": "code",
   "execution_count": 2,
   "metadata": {},
   "outputs": [
    {
     "name": "stdout",
     "output_type": "stream",
     "text": [
      "   tweet_id                                               text\n",
      "0  0x376b20  People who post \"add me on #Snapchat\" must be ...\n",
      "1  0x2d5350  @brianklaas As we see, Trump is dangerous to #...\n",
      "2  0x28b412  Confident of your obedience, I write to you, k...\n",
      "3  0x1cd5b0                Now ISSA is stalking Tasha 😂😂😂 <LH>\n",
      "4  0x2de201  \"Trust is not the same as faith. A friend is s...\n"
     ]
    }
   ],
   "source": [
    "df = origin_df['_source'].apply(lambda x: pd.Series({'tweet_id': x['tweet']['tweet_id'], 'text': x['tweet']['text']}))\n",
    "\n",
    "print(df.head())"
   ]
  },
  {
   "cell_type": "markdown",
   "metadata": {},
   "source": [
    "Split training data and test data"
   ]
  },
  {
   "cell_type": "code",
   "execution_count": 3,
   "metadata": {},
   "outputs": [
    {
     "name": "stdout",
     "output_type": "stream",
     "text": [
      "   tweet_id                                               text\n",
      "0  0x376b20  People who post \"add me on #Snapchat\" must be ...\n",
      "1  0x2d5350  @brianklaas As we see, Trump is dangerous to #...\n",
      "3  0x1cd5b0                Now ISSA is stalking Tasha 😂😂😂 <LH>\n",
      "5  0x1d755c  @RISKshow @TheKevinAllison Thx for the BEST TI...\n",
      "6  0x2c91a8       Still waiting on those supplies Liscus. <LH>\n",
      "    tweet_id                                               text\n",
      "2   0x28b412  Confident of your obedience, I write to you, k...\n",
      "4   0x2de201  \"Trust is not the same as faith. A friend is s...\n",
      "9   0x218443  When do you have enough ? When are you satisfi...\n",
      "30  0x2939d5  God woke you up, now chase the day #GodsPlan #...\n",
      "33  0x26289a  In these tough times, who do YOU turn to as yo...\n"
     ]
    }
   ],
   "source": [
    "merge_with_identification = pd.merge(df, identification, on='tweet_id', how='left')\n",
    "\n",
    "train_df = merge_with_identification[merge_with_identification['identification'] == 'train']\n",
    "test_df = merge_with_identification[merge_with_identification['identification'] == 'test']\n",
    "\n",
    "train_df = train_df.drop(columns=['identification'])\n",
    "test_df = test_df.drop(columns=['identification'])\n",
    "\n",
    "print(train_df.head())\n",
    "print(test_df.head())"
   ]
  },
  {
   "cell_type": "markdown",
   "metadata": {},
   "source": [
    "Add feature 'emotion' to train_df"
   ]
  },
  {
   "cell_type": "code",
   "execution_count": 4,
   "metadata": {},
   "outputs": [
    {
     "name": "stdout",
     "output_type": "stream",
     "text": [
      "   tweet_id                                               text       emotion\n",
      "0  0x376b20  People who post \"add me on #Snapchat\" must be ...  anticipation\n",
      "1  0x2d5350  @brianklaas As we see, Trump is dangerous to #...       sadness\n",
      "2  0x1cd5b0                Now ISSA is stalking Tasha 😂😂😂 <LH>          fear\n",
      "3  0x1d755c  @RISKshow @TheKevinAllison Thx for the BEST TI...           joy\n",
      "4  0x2c91a8       Still waiting on those supplies Liscus. <LH>  anticipation\n"
     ]
    }
   ],
   "source": [
    "train_df = pd.merge(train_df, emotion, on='tweet_id', how='left')\n",
    "\n",
    "print(train_df.head())"
   ]
  },
  {
   "cell_type": "markdown",
   "metadata": {},
   "source": [
    "Save the dataframe to .csv (Can be read directly afterwards)"
   ]
  },
  {
   "cell_type": "code",
   "execution_count": 5,
   "metadata": {},
   "outputs": [
    {
     "name": "stdout",
     "output_type": "stream",
     "text": [
      "saved as csv!\n"
     ]
    }
   ],
   "source": [
    "train_df.to_csv('train_data.csv', index=False)\n",
    "test_df.to_csv('test_data.csv', index=False)\n",
    "\n",
    "print(\"saved as csv!\")"
   ]
  },
  {
   "cell_type": "markdown",
   "metadata": {},
   "source": [
    "Save the dataframe to .json (Cause .csv can't reserve the emoji. So if we want use emoji, we need load the json file.)"
   ]
  },
  {
   "cell_type": "code",
   "execution_count": 6,
   "metadata": {},
   "outputs": [
    {
     "name": "stdout",
     "output_type": "stream",
     "text": [
      "saved as JSON!\n"
     ]
    }
   ],
   "source": [
    "train_df.to_json('train_data.json', orient='records', lines=False, indent=4)\n",
    "test_df.to_json('test_data.json', orient='records', lines=False, indent=4)\n",
    "\n",
    "print(\"saved as JSON!\")"
   ]
  },
  {
   "cell_type": "markdown",
   "metadata": {},
   "source": [
    "_________________________"
   ]
  },
  {
   "cell_type": "markdown",
   "metadata": {},
   "source": [
    "## After we save the file what we processing, we can directly load it."
   ]
  },
  {
   "cell_type": "markdown",
   "metadata": {},
   "source": [
    "csv file (without emoji)"
   ]
  },
  {
   "cell_type": "code",
   "execution_count": 1,
   "metadata": {},
   "outputs": [],
   "source": [
    "import pandas as pd\n",
    "\n",
    "train_df = pd.read_csv('train_data.csv')\n",
    "test_df = pd.read_csv('test_data.csv')"
   ]
  },
  {
   "cell_type": "markdown",
   "metadata": {},
   "source": [
    "JSON file (with emoji)"
   ]
  },
  {
   "cell_type": "code",
   "execution_count": 2,
   "metadata": {},
   "outputs": [],
   "source": [
    "import pandas as pd\n",
    "\n",
    "train_df = pd.read_json('train_data.json')\n",
    "test_df = pd.read_json('test_data.json')"
   ]
  },
  {
   "cell_type": "markdown",
   "metadata": {},
   "source": [
    "Remove punctuation marks and Convert it. (Optional, if we don't want use emoji.)"
   ]
  },
  {
   "cell_type": "code",
   "execution_count": 3,
   "metadata": {},
   "outputs": [
    {
     "name": "stdout",
     "output_type": "stream",
     "text": [
      "   tweet_id                                               text       emotion\n",
      "0  0x376b20  people who post add me on snapchat must be deh...  anticipation\n",
      "1  0x2d5350  brianklaas as we see trump is dangerous to fre...       sadness\n",
      "2  0x1cd5b0                     now issa is stalking tasha  lh          fear\n",
      "3  0x1d755c  riskshow thekevinallison thx for the best time...           joy\n",
      "4  0x2c91a8          still waiting on those supplies liscus lh  anticipation\n"
     ]
    }
   ],
   "source": [
    "import re\n",
    "\n",
    "def preprocess_text(text):\n",
    "    text = re.sub(r\"[^\\w\\s]\", \"\", text)  # Remove punctuation marks\n",
    "    text = text.lower().strip()         # Convert all to lowercase and remove spaces\n",
    "    return text\n",
    "train_df['text'] = train_df['text'].apply(preprocess_text)\n",
    "test_df['text'] = test_df['text'].apply(preprocess_text)\n",
    "\n",
    "print(train_df.head())"
   ]
  },
  {
   "cell_type": "markdown",
   "metadata": {},
   "source": [
    "_____________"
   ]
  },
  {
   "cell_type": "markdown",
   "metadata": {},
   "source": [
    "## Data analysis"
   ]
  },
  {
   "cell_type": "markdown",
   "metadata": {},
   "source": [
    "### Observe the class distribution"
   ]
  },
  {
   "cell_type": "code",
   "execution_count": 4,
   "metadata": {},
   "outputs": [
    {
     "data": {
      "text/plain": [
       "emotion\n",
       "anger            39867\n",
       "anticipation    248935\n",
       "disgust         139101\n",
       "fear             63999\n",
       "joy             516017\n",
       "sadness         193437\n",
       "surprise         48729\n",
       "trust           205478\n",
       "Name: text, dtype: int64"
      ]
     },
     "execution_count": 4,
     "metadata": {},
     "output_type": "execute_result"
    }
   ],
   "source": [
    "train_df.groupby(['emotion']).count()['text']"
   ]
  },
  {
   "cell_type": "code",
   "execution_count": 5,
   "metadata": {},
   "outputs": [
    {
     "data": {
      "image/png": "[encoded data removed]",
      "text/plain": [
       "<Figure size 500x300 with 1 Axes>"
      ]
     },
     "metadata": {},
     "output_type": "display_data"
    }
   ],
   "source": [
    "%matplotlib inline\n",
    "import numpy as np\n",
    "import matplotlib.pyplot as plt\n",
    "\n",
    "# the histogram of the data\n",
    "labels = train_df['emotion'].unique()\n",
    "post_total = len(train_df)\n",
    "df1 = train_df.groupby(['emotion']).count()['text']\n",
    "df1 = df1.apply(lambda x: round(x*100/post_total,3))\n",
    "\n",
    "#plot\n",
    "fig, ax = plt.subplots(figsize=(5,3))\n",
    "plt.bar(df1.index,df1.values)\n",
    "\n",
    "#arrange\n",
    "plt.ylabel('% of instances')\n",
    "plt.xlabel('Emotion')\n",
    "plt.title('Emotion distribution')\n",
    "plt.grid(True)\n",
    "plt.show()"
   ]
  },
  {
   "cell_type": "markdown",
   "metadata": {},
   "source": [
    "## Data Preprocessing "
   ]
  },
  {
   "cell_type": "markdown",
   "metadata": {},
   "source": [
    "### Remove stopwords"
   ]
  },
  {
   "cell_type": "code",
   "execution_count": null,
   "metadata": {},
   "outputs": [
    {
     "name": "stderr",
     "output_type": "stream",
     "text": [
      "[nltk_data] Downloading package stopwords to\n",
      "[nltk_data]     C:\\Users\\Win\\AppData\\Roaming\\nltk_data...\n",
      "[nltk_data]   Unzipping corpora\\stopwords.zip.\n",
      "[nltk_data] Downloading package punkt to\n",
      "[nltk_data]     C:\\Users\\Win\\AppData\\Roaming\\nltk_data...\n",
      "[nltk_data]   Package punkt is already up-to-date!\n"
     ]
    },
    {
     "data": {
      "text/plain": [
       "True"
      ]
     },
     "execution_count": 9,
     "metadata": {},
     "output_type": "execute_result"
    }
   ],
   "source": [
    "# Only need execution one times\n",
    "\n",
    "import nltk\n",
    "\n",
    "nltk.download('stopwords')\n",
    "nltk.download('punkt')"
   ]
  },
  {
   "cell_type": "code",
   "execution_count": 10,
   "metadata": {},
   "outputs": [
    {
     "name": "stdout",
     "output_type": "stream",
     "text": [
      "0    people post add snapchat must dehydrated cuz m...\n",
      "1    brianklaas see trump dangerous freepress aroun...\n",
      "2                               issa stalking tasha lh\n",
      "3    riskshow thekevinallison thx best time tonight...\n",
      "4                     still waiting supplies liscus lh\n",
      "Name: text, dtype: object\n",
      "0    confident obedience write knowing even ask phi...\n",
      "1    trust faith friend someone trust putting faith...\n",
      "2    enough satisfied goal really money materialism...\n",
      "3              god woke chase day godsplan godswork lh\n",
      "4                      tough times turn symbol hope lh\n",
      "Name: text, dtype: object\n"
     ]
    }
   ],
   "source": [
    "import nltk\n",
    "from nltk.corpus import stopwords\n",
    "from nltk.tokenize import word_tokenize\n",
    "\n",
    "stop_words = set(stopwords.words('english'))\n",
    "\n",
    "def remove_stopwords(text):\n",
    "    tokens = word_tokenize(text)\n",
    "    filtered_tokens = [word for word in tokens if word.lower() not in stop_words]\n",
    "    return ' '.join(filtered_tokens)\n",
    "\n",
    "train_df['text'] = train_df['text'].apply(remove_stopwords)\n",
    "test_df['text'] = test_df['text'].apply(remove_stopwords)\n",
    "\n",
    "print(train_df['text'].head())\n",
    "print(test_df['text'].head())"
   ]
  },
  {
   "cell_type": "markdown",
   "metadata": {},
   "source": [
    "### Sampling"
   ]
  },
  {
   "cell_type": "markdown",
   "metadata": {},
   "source": [
    "From the histogram, we can observe that many data's emotion is \"joy\". But the data is very scarce in \"surprise\".  \n",
    "\n",
    "It will cause the prediction to be very biased towards \"joy\". So I use sampling to balance the emotion distribution."
   ]
  },
  {
   "cell_type": "code",
   "execution_count": 11,
   "metadata": {},
   "outputs": [
    {
     "name": "stderr",
     "output_type": "stream",
     "text": [
      "C:\\Users\\Win\\AppData\\Local\\Temp\\ipykernel_16900\\4240658233.py:3: DeprecationWarning: DataFrameGroupBy.apply operated on the grouping columns. This behavior is deprecated, and in a future version of pandas the grouping columns will be excluded from the operation. Either pass `include_groups=False` to exclude the groupings or explicitly select the grouping columns after groupby to silence this warning.\n",
      "  sample_df = train_df.groupby('emotion', group_keys=False).apply(lambda x: x.sample(n=39000, random_state=1))\n"
     ]
    },
    {
     "name": "stdout",
     "output_type": "stream",
     "text": [
      "        tweet_id                                               text  \\\n",
      "0       0x289812  im scott monie got sauce bitch lh 10pm love sc...   \n",
      "1       0x2b7a19                  shriramdusane lh moment lh handle   \n",
      "2       0x32d1d9  paonthemic ericnordokfan aarongleeman ill call...   \n",
      "3       0x359fe7                                broke seal early lh   \n",
      "4       0x2ad04a  put eyeshadow primer face washed spin brushed ...   \n",
      "...          ...                                                ...   \n",
      "311995  0x272dc9  woke lh stans mentions ksdhbjdshj im sorry spe...   \n",
      "311996  0x38a2a3        registered senior ordination exams lh pcusa   \n",
      "311997  0x23c0c3  74 moments life life lh lh lh lh lh lh lh augu...   \n",
      "311998  0x2b79f1             ianfarrow getup surprised lets get get   \n",
      "311999  0x2326f6  lh cancermen prostatecancer think would like p...   \n",
      "\n",
      "             emotion  \n",
      "0           surprise  \n",
      "1            sadness  \n",
      "2       anticipation  \n",
      "3            sadness  \n",
      "4            disgust  \n",
      "...              ...  \n",
      "311995         anger  \n",
      "311996          fear  \n",
      "311997  anticipation  \n",
      "311998      surprise  \n",
      "311999          fear  \n",
      "\n",
      "[312000 rows x 3 columns]\n"
     ]
    }
   ],
   "source": [
    "import pandas as pd\n",
    "\n",
    "sample_df = train_df.groupby('emotion', group_keys=False).apply(lambda x: x.sample(n=39000, random_state=1))\n",
    "sample_df = sample_df.sample(frac=1, random_state=1).reset_index(drop=True)\n",
    "print(sample_df)"
   ]
  },
  {
   "cell_type": "code",
   "execution_count": 12,
   "metadata": {},
   "outputs": [
    {
     "data": {
      "text/plain": [
       "emotion\n",
       "anger           39000\n",
       "anticipation    39000\n",
       "disgust         39000\n",
       "fear            39000\n",
       "joy             39000\n",
       "sadness         39000\n",
       "surprise        39000\n",
       "trust           39000\n",
       "Name: text, dtype: int64"
      ]
     },
     "execution_count": 12,
     "metadata": {},
     "output_type": "execute_result"
    }
   ],
   "source": [
    "sample_df.groupby(['emotion']).count()['text']"
   ]
  },
  {
   "cell_type": "code",
   "execution_count": 13,
   "metadata": {},
   "outputs": [
    {
     "data": {
      "image/png": "[encoded data removed]",
      "text/plain": [
       "<Figure size 500x300 with 1 Axes>"
      ]
     },
     "metadata": {},
     "output_type": "display_data"
    }
   ],
   "source": [
    "%matplotlib inline\n",
    "import numpy as np\n",
    "import matplotlib.pyplot as plt\n",
    "\n",
    "# the histogram of the data\n",
    "labels = sample_df['emotion'].unique()\n",
    "post_total = len(sample_df)\n",
    "df1 = sample_df.groupby(['emotion']).count()['text']\n",
    "df1 = df1.apply(lambda x: round(x*100/post_total,3))\n",
    "\n",
    "#plot\n",
    "fig, ax = plt.subplots(figsize=(5,3))\n",
    "plt.bar(df1.index,df1.values)\n",
    "\n",
    "#arrange\n",
    "plt.ylabel('% of instances')\n",
    "plt.xlabel('Emotion')\n",
    "plt.title('Emotion distribution')\n",
    "plt.grid(True)\n",
    "plt.show()"
   ]
  },
  {
   "cell_type": "markdown",
   "metadata": {},
   "source": [
    "### Split"
   ]
  },
  {
   "cell_type": "markdown",
   "metadata": {},
   "source": [
    "Use split to generate training data and test data. Can use to verify the model accuracy and generate the classification report."
   ]
  },
  {
   "cell_type": "code",
   "execution_count": 14,
   "metadata": {},
   "outputs": [
    {
     "name": "stdout",
     "output_type": "stream",
     "text": [
      "(249600, 3)\n",
      "(62400, 3)\n"
     ]
    }
   ],
   "source": [
    "from sklearn.model_selection import train_test_split\n",
    "\n",
    "X_train, X_test, y_train, y_test = train_test_split(sample_df, sample_df['emotion'], test_size=0.2, random_state=4, stratify=sample_df['emotion'])\n",
    "\n",
    "print(X_train.shape)\n",
    "print(X_test.shape)"
   ]
  },
  {
   "cell_type": "markdown",
   "metadata": {},
   "source": [
    "### Encode"
   ]
  },
  {
   "cell_type": "markdown",
   "metadata": {},
   "source": [
    "Because XGBoost and neural networks do not accept non-numeric classes, we must first convert the classes into numbers in order to generate a prediction model."
   ]
  },
  {
   "cell_type": "code",
   "execution_count": 21,
   "metadata": {},
   "outputs": [
    {
     "name": "stdout",
     "output_type": "stream",
     "text": [
      "['anger' 'anticipation' 'disgust' 'fear' 'joy' 'sadness' 'surprise'\n",
      " 'trust']\n",
      "28685             fear\n",
      "283336             joy\n",
      "155808         sadness\n",
      "100279    anticipation\n",
      "76869     anticipation\n",
      "225169        surprise\n",
      "108271            fear\n",
      "144289         sadness\n",
      "Name: emotion, dtype: object\n",
      "[3 4 5 1 1 6 3 5]\n"
     ]
    }
   ],
   "source": [
    "from sklearn.preprocessing import LabelEncoder\n",
    "\n",
    "label_encoder = LabelEncoder()\n",
    "\n",
    "y_train_encoded = label_encoder.fit_transform(y_train)\n",
    "y_test_encoded = label_encoder.transform(y_test)\n",
    "\n",
    "print(label_encoder.classes_)\n",
    "print(y_train[0:8])\n",
    "print(y_train_encoded[0:8])"
   ]
  },
  {
   "cell_type": "markdown",
   "metadata": {},
   "source": [
    "__________"
   ]
  },
  {
   "cell_type": "markdown",
   "metadata": {},
   "source": [
    "Below this part, I used kaggle to training. So it doesn't have the execute result."
   ]
  },
  {
   "cell_type": "markdown",
   "metadata": {},
   "source": [
    "## Feature Engineering"
   ]
  },
  {
   "cell_type": "markdown",
   "metadata": {},
   "source": [
    "I used three different feature extraction methods and matched them with different models for training.  \n",
    "\n",
    "1. Bag of Words\n",
    "2. TF-IDF\n",
    "3. W2V"
   ]
  },
  {
   "cell_type": "markdown",
   "metadata": {},
   "source": [
    "### 1. Bag of Words"
   ]
  },
  {
   "cell_type": "markdown",
   "metadata": {},
   "source": [
    "I try to used many different numbers of features for training.  \n",
    "The purpose is to see if there will be over fitting problems if the quantity is too large.  \n",
    "\n",
    "The conclusion is that basically no matter what model, more features will not lead to serious overfitting, but will greatly increase the training time, and the accuracy will not be much different.  \n",
    "(I use 3000 features and 10000 features in XGBoost, the final accuracy difference was only 0.01)"
   ]
  },
  {
   "cell_type": "code",
   "execution_count": null,
   "metadata": {},
   "outputs": [],
   "source": [
    "from sklearn.feature_extraction.text import CountVectorizer\n",
    "import nltk\n",
    "\n",
    "number_feature = 10000\n",
    "\n",
    "BOW = CountVectorizer(max_features = number_feature, tokenizer=nltk.word_tokenize) \n",
    "BOW.fit(sample_df['text'])\n",
    "\n",
    "X_train = BOW.transform(X_train['text'])\n",
    "X_test = BOW.transform(X_test['text'])"
   ]
  },
  {
   "cell_type": "markdown",
   "metadata": {},
   "source": [
    "We can check the feature names."
   ]
  },
  {
   "cell_type": "code",
   "execution_count": null,
   "metadata": {},
   "outputs": [],
   "source": [
    "BOW.get_feature_names_out()[100:110]"
   ]
  },
  {
   "cell_type": "markdown",
   "metadata": {},
   "source": [
    "### 2. TF-IDF"
   ]
  },
  {
   "cell_type": "markdown",
   "metadata": {},
   "source": [
    "I compared the results of BOW and TFIDF (features = 1000) with Random Forest and XGBoost.  \n",
    "In the end, BOW has a higher accuracy."
   ]
  },
  {
   "cell_type": "markdown",
   "metadata": {},
   "source": [
    "I think it is because TF-IDF is prone to generating sparse matrices and may reduce important words (\"good\", \"bad\", \"happy\", etc.) to their importance.  \n",
    "The features generated by BOW are more intuitive and will not reduce the importance of common words.  \n",
    "\n",
    "Random Forest and XGBoost are not good at handling highly sparse matrices, so I think this is the reason why BOW is better than TF-IDF. "
   ]
  },
  {
   "cell_type": "code",
   "execution_count": null,
   "metadata": {},
   "outputs": [],
   "source": [
    "from sklearn.feature_extraction.text import TfidfVectorizer\n",
    "\n",
    "TFIDF = TfidfVectorizer(max_features=1000, tokenizer=nltk.word_tokenize)\n",
    "\n",
    "TFIDF.fit(sample_df['text'])\n",
    "\n",
    "X_train = TFIDF.transform(X_train['text'])\n",
    "X_test = TFIDF.transform(X_test['text'])"
   ]
  },
  {
   "cell_type": "markdown",
   "metadata": {},
   "source": [
    "### 3. W2V"
   ]
  },
  {
   "cell_type": "markdown",
   "metadata": {},
   "source": [
    "I try to use generate by itself and \"word2vec-google-news-300\"."
   ]
  },
  {
   "cell_type": "markdown",
   "metadata": {},
   "source": [
    "1. training by itself"
   ]
  },
  {
   "cell_type": "code",
   "execution_count": null,
   "metadata": {},
   "outputs": [],
   "source": [
    "## check library\n",
    "import gensim\n",
    "\n",
    "## ignore warnings\n",
    "import warnings\n",
    "warnings.filterwarnings('ignore')\n",
    "\n",
    "# # if you want to see the training messages, you can use it\n",
    "#import logging\n",
    "#logging.basicConfig(format='%(asctime)s : %(levelname)s : %(message)s', level=logging.INFO)\n",
    "\n",
    "## the input type\n",
    "train_df['text_tokenized'] = train_df['text'].apply(lambda x: nltk.word_tokenize(x))\n",
    "train_df[['tweet_id', 'text', 'text_tokenized']].head()"
   ]
  },
  {
   "cell_type": "code",
   "execution_count": null,
   "metadata": {},
   "outputs": [],
   "source": [
    "training_corpus = train_df['text_tokenized'].values\n",
    "training_corpus[:3]"
   ]
  },
  {
   "cell_type": "markdown",
   "metadata": {},
   "source": [
    "generate W2V model"
   ]
  },
  {
   "cell_type": "code",
   "execution_count": null,
   "metadata": {},
   "outputs": [],
   "source": [
    "from gensim.models import Word2Vec\n",
    "\n",
    "## setting\n",
    "vector_dim = 500\n",
    "window_size = 5\n",
    "min_count = 1\n",
    "training_epochs = 20\n",
    "\n",
    "## model\n",
    "word2vec_model = Word2Vec(sentences=training_corpus, \n",
    "                          vector_size=vector_dim, window=window_size, \n",
    "                          min_count=min_count, epochs=training_epochs)"
   ]
  },
  {
   "cell_type": "markdown",
   "metadata": {},
   "source": [
    "get the average vector"
   ]
  },
  {
   "cell_type": "code",
   "execution_count": null,
   "metadata": {},
   "outputs": [],
   "source": [
    "import torch\n",
    "\n",
    "from nltk.tokenize import word_tokenize\n",
    "\n",
    "def text_to_avg_vector(text, model, vector_dim):\n",
    "    words = word_tokenize(text.lower())\n",
    "    vectors = []\n",
    "\n",
    "    for word in words:\n",
    "        if word in model.wv:\n",
    "            vectors.append(torch.tensor(model.wv[word]).cuda())\n",
    "    \n",
    "    if vectors:\n",
    "        avg_vector = torch.mean(torch.stack(vectors), dim=0)\n",
    "        return avg_vector.cpu().numpy()\n",
    "    else:\n",
    "        return np.zeros(vector_dim)\n",
    "\n",
    "sample_df['avg_vector'] = sample_df['text'].apply(lambda x: text_to_avg_vector(x, word2vec_model, vector_dim))\n",
    "\n",
    "print(sample_df.head())"
   ]
  },
  {
   "cell_type": "markdown",
   "metadata": {},
   "source": [
    "(use sampling between get average vector and flatten)"
   ]
  },
  {
   "cell_type": "code",
   "execution_count": null,
   "metadata": {},
   "outputs": [],
   "source": [
    "# flatten 'avg_vector'\n",
    "\n",
    "import pandas as pd\n",
    "\n",
    "vector_df = pd.DataFrame(X_train['avg_vector'].tolist(), index=X_train.index)\n",
    "\n",
    "X_train = pd.concat([X_train, vector_df], axis=1)\n",
    "\n",
    "X_train = X_train.drop(columns=['tweet_id','text','emotion','avg_vector','text_tokenized'])\n",
    "\n",
    "print(X_train.head())\n",
    "print(X_train.shape)"
   ]
  },
  {
   "cell_type": "markdown",
   "metadata": {},
   "source": [
    "2. use \"word2vec-google-news-300\"."
   ]
  },
  {
   "cell_type": "code",
   "execution_count": null,
   "metadata": {},
   "outputs": [],
   "source": [
    "import torch\n",
    "import nltk\n",
    "import gensim.downloader as api\n",
    "import ssl\n",
    "\n",
    "ssl._create_default_https_context = ssl._create_unverified_context\n",
    "W2V_300_model = api.load(\"word2vec-google-news-300\")\n",
    "print('Model loaded successful')\n",
    "\n",
    "def text_to_vector_with_gpu(text, model):\n",
    "    if not isinstance(text, str):\n",
    "        return None\n",
    "    words = nltk.word_tokenize(text)\n",
    "    vectors = []\n",
    "    for word in words:\n",
    "        if word in model:\n",
    "            vector = torch.tensor(model[word]).cuda()\n",
    "            vectors.append(vector)\n",
    "    if vectors:\n",
    "        return torch.mean(torch.stack(vectors), dim=0).cpu().numpy()\n",
    "    else:\n",
    "        return None\n",
    "\n",
    "sample_df['W2V'] = sample_df['text'].apply(lambda x: text_to_vector_with_gpu(x, W2V_300_model))"
   ]
  },
  {
   "cell_type": "markdown",
   "metadata": {},
   "source": [
    "(use sampling between get average vector and flatten)"
   ]
  },
  {
   "cell_type": "code",
   "execution_count": null,
   "metadata": {},
   "outputs": [],
   "source": [
    "# flatten 'avg_vector'\n",
    "\n",
    "import pandas as pd\n",
    "\n",
    "w2v_df = pd.DataFrame(X_train['W2V'].tolist(), index=X_train.index)\n",
    "\n",
    "X_train = pd.concat([X_train, w2v_df], axis=1)\n",
    "\n",
    "X_train = X_train.drop(columns=['tweet_id','text','emotion','W2V'])\n",
    "\n",
    "print(X_train.head())"
   ]
  },
  {
   "cell_type": "markdown",
   "metadata": {},
   "source": [
    "______________"
   ]
  },
  {
   "cell_type": "markdown",
   "metadata": {},
   "source": [
    "## Training Model"
   ]
  },
  {
   "cell_type": "markdown",
   "metadata": {},
   "source": [
    "I used three different models for training.  \n",
    "\n",
    "1. Decision Tree\n",
    "2. Random Forest\n",
    "3. Neural Network\n",
    "4. XGBoost"
   ]
  },
  {
   "cell_type": "markdown",
   "metadata": {},
   "source": [
    "### 1. Decision Tree"
   ]
  },
  {
   "cell_type": "code",
   "execution_count": null,
   "metadata": {},
   "outputs": [],
   "source": [
    "from sklearn.tree import DecisionTreeClassifier\n",
    "\n",
    "DT_model = DecisionTreeClassifier(max_leaf_nodes=1000, random_state=1)\n",
    "\n",
    "DT_model = DT_model.fit(X_train, y_train)\n",
    "\n",
    "y_train_pred = DT_model.predict(X_train)\n",
    "y_test_pred = DT_model.predict(X_test)\n",
    "\n",
    "print ('All predict success!')"
   ]
  },
  {
   "cell_type": "markdown",
   "metadata": {},
   "source": [
    "### 2. Random Forest"
   ]
  },
  {
   "cell_type": "code",
   "execution_count": null,
   "metadata": {},
   "outputs": [],
   "source": [
    "from sklearn.ensemble import RandomForestClassifier\n",
    "\n",
    "RF_model = RandomForestClassifier(n_estimators=500, max_depth=100, min_samples_split=2, random_state=1)\n",
    "\n",
    "RF_model = RF_model.fit(X_train, y_train)\n",
    "\n",
    "y_train_pred = RF_model.predict(X_train)\n",
    "y_test_pred = RF_model.predict(X_test)\n",
    "\n",
    "print ('All predict success!')"
   ]
  },
  {
   "cell_type": "markdown",
   "metadata": {},
   "source": [
    "### 3. Neural Network"
   ]
  },
  {
   "cell_type": "code",
   "execution_count": null,
   "metadata": {},
   "outputs": [],
   "source": [
    "from sklearn.preprocessing import LabelEncoder\n",
    "import keras\n",
    "\n",
    "label_encoder = LabelEncoder()\n",
    "label_encoder.fit(y_train)\n",
    "print('check label: ', label_encoder.classes_)\n",
    "print('\\n## Before convert')\n",
    "print('y_train[0:4]:\\n', y_train[0:4])\n",
    "print('\\ny_train.shape: ', y_train.shape)\n",
    "print('y_test.shape: ', y_test.shape)\n",
    "\n",
    "def label_encode(le, labels):\n",
    "    enc = le.transform(labels)\n",
    "    return keras.utils.to_categorical(enc)\n",
    "\n",
    "def label_decode(le, one_hot_label):\n",
    "    dec = np.argmax(one_hot_label, axis=1)\n",
    "    return le.inverse_transform(dec)\n",
    "\n",
    "y_train = label_encode(label_encoder, y_train)\n",
    "y_test = label_encode(label_encoder, y_test)\n",
    "\n",
    "print('\\n\\n## After convert')\n",
    "print('y_train[0:4]:\\n', y_train[0:4])\n",
    "print('\\ny_train.shape: ', y_train.shape)\n",
    "print('y_test.shape: ', y_test.shape)"
   ]
  },
  {
   "cell_type": "code",
   "execution_count": null,
   "metadata": {},
   "outputs": [],
   "source": [
    "# I/O check\n",
    "input_shape = X_train.shape[1]\n",
    "print('input_shape: ', input_shape)\n",
    "\n",
    "output_shape = len(label_encoder.classes_)\n",
    "print('output_shape: ', output_shape)"
   ]
  },
  {
   "cell_type": "code",
   "execution_count": null,
   "metadata": {},
   "outputs": [],
   "source": [
    "from keras.models import Model\n",
    "from keras.layers import Input, Dense\n",
    "from keras.layers import ReLU, Softmax\n",
    "\n",
    "# input layer\n",
    "model_input = Input(shape=(input_shape, ))  # 1000\n",
    "X = model_input\n",
    "\n",
    "# 1st hidden layer\n",
    "X_W1 = Dense(units=256)(X)  # 256\n",
    "H1 = ReLU()(X_W1)\n",
    "\n",
    "# 2nd hidden layer\n",
    "H1_W2 = Dense(units=64)(H1)  # 64\n",
    "H2 = ReLU()(H1_W2)\n",
    "\n",
    "# output layer\n",
    "H2_W3 = Dense(units=output_shape)(H2)  # 8\n",
    "H3 = Softmax()(H2_W3)\n",
    "\n",
    "model_output = H3\n",
    "\n",
    "# create model\n",
    "model = Model(inputs=[model_input], outputs=[model_output])\n",
    "\n",
    "# loss function & optimizer\n",
    "model.compile(optimizer='adam',\n",
    "              loss='categorical_crossentropy',\n",
    "              metrics=['accuracy'])\n",
    "\n",
    "# show model construction\n",
    "model.summary()"
   ]
  },
  {
   "cell_type": "code",
   "execution_count": null,
   "metadata": {},
   "outputs": [],
   "source": [
    "from keras.callbacks import CSVLogger\n",
    "\n",
    "# training setting\n",
    "epochs = 25\n",
    "batch_size = 256\n",
    "\n",
    "# training!\n",
    "history = model.fit(X_train, y_train, \n",
    "                    epochs=epochs, \n",
    "                    batch_size=batch_size, \n",
    "                    validation_data = (X_test, y_test))\n",
    "print('training finish')\n",
    "\n",
    "pred_result = model.predict(X_test, batch_size=128)\n",
    "print ('All predict success!')"
   ]
  },
  {
   "cell_type": "markdown",
   "metadata": {},
   "source": [
    "### 4. XGBoost"
   ]
  },
  {
   "cell_type": "code",
   "execution_count": null,
   "metadata": {},
   "outputs": [],
   "source": [
    "from xgboost import XGBClassifier\n",
    "\n",
    "XGB_model = XGBClassifier(n_estimators=350,\n",
    "    learning_rate=0.1,\n",
    "    max_depth=35,\n",
    "    objective='multi:softprob',\n",
    "    num_class=8,\n",
    "    eval_metric='mlogloss',\n",
    "    use_label_encoder=False,\n",
    "    tree_method='hist',\n",
    "    device=\"cuda\")  # use GPU\n",
    "\n",
    "XGB_model=XGB_model.fit(X_train, y_train_encoded)\n",
    "print ('training finish!')\n",
    "\n",
    "y_train_pred = XGB_model.predict(X_train)\n",
    "y_test_pred = XGB_model.predict(X_test)\n",
    "print ('All predict success!')"
   ]
  },
  {
   "cell_type": "markdown",
   "metadata": {},
   "source": [
    "_____________________"
   ]
  },
  {
   "cell_type": "markdown",
   "metadata": {},
   "source": [
    "## Result verification"
   ]
  },
  {
   "cell_type": "markdown",
   "metadata": {},
   "source": [
    "### accuracy and report"
   ]
  },
  {
   "cell_type": "code",
   "execution_count": null,
   "metadata": {},
   "outputs": [],
   "source": [
    "from sklearn.metrics import accuracy_score\n",
    "from sklearn.metrics import classification_report\n",
    "\n",
    "acc_train = accuracy_score(y_true=y_train, y_pred=y_train_pred)\n",
    "acc_test = accuracy_score(y_true=y_test, y_pred=y_test_pred)\n",
    "\n",
    "print('training accuracy: {}'.format(round(acc_train, 2)))\n",
    "print('testing accuracy: {}'.format(round(acc_test, 2)))\n",
    "print(classification_report(y_true=y_test, y_pred=y_test_pred))"
   ]
  },
  {
   "cell_type": "markdown",
   "metadata": {},
   "source": [
    "### confusion matrix"
   ]
  },
  {
   "cell_type": "code",
   "execution_count": null,
   "metadata": {},
   "outputs": [],
   "source": [
    "# Funciton for visualizing confusion_matrix\n",
    "from sklearn.metrics import confusion_matrix\n",
    "import matplotlib.pyplot as plt\n",
    "import seaborn as sns\n",
    "import numpy as np\n",
    "import itertools\n",
    "\n",
    "def plot_confusion_matrix(cm, classes, title='Confusion matrix',\n",
    "                          cmap=sns.cubehelix_palette(as_cmap=True)):\n",
    "    \"\"\"\n",
    "    This function is modified from: \n",
    "    http://scikit-learn.org/stable/auto_examples/model_selection/plot_confusion_matrix.html\n",
    "    \"\"\"\n",
    "    classes.sort()\n",
    "    tick_marks = np.arange(len(classes))    \n",
    "    \n",
    "    fig, ax = plt.subplots(figsize=(5,5))\n",
    "    im = ax.imshow(cm, interpolation='nearest', cmap=cmap)\n",
    "    ax.figure.colorbar(im, ax=ax)\n",
    "    ax.set(xticks=np.arange(cm.shape[1]),\n",
    "           yticks=np.arange(cm.shape[0]),\n",
    "           xticklabels = classes,\n",
    "           yticklabels = classes,\n",
    "           title = title,\n",
    "           xlabel = 'Predicted label',\n",
    "           ylabel = 'True label')\n",
    "\n",
    "    fmt = 'd'\n",
    "    thresh = cm.max() / 2.\n",
    "    for i, j in itertools.product(range(cm.shape[0]), range(cm.shape[1])):\n",
    "        plt.text(j, i, format(cm[i, j], fmt), horizontalalignment=\"center\", color=\"white\" if cm[i, j] > thresh else \"black\")\n",
    "    ylim_top = len(classes) - 0.5\n",
    "    plt.ylim([ylim_top, -.5])\n",
    "    plt.tight_layout()\n",
    "    plt.show()\n",
    "\n",
    "cm = confusion_matrix(y_true=y_test, y_pred=y_test_pred)\n",
    "my_tags = ['anger', 'anticipation', 'disgust', 'fear', 'sadness', 'surprise', 'trust', 'joy']\n",
    "\n",
    "plot_confusion_matrix(cm, classes=my_tags, title='Confusion matrix')"
   ]
  },
  {
   "cell_type": "markdown",
   "metadata": {},
   "source": [
    "__________________"
   ]
  },
  {
   "cell_type": "markdown",
   "metadata": {},
   "source": [
    "## Experiment"
   ]
  },
  {
   "cell_type": "markdown",
   "metadata": {},
   "source": [
    "### **1. Emotion work or not** "
   ]
  },
  {
   "cell_type": "markdown",
   "metadata": {},
   "source": [
    "1. sampling, BOW(feature = 1000), Decision Tree (max leaf nodes=1000)\n",
    "2. sampling, BOW(feature = 1000), Decision Tree (max leaf nodes=1000), with emoji"
   ]
  },
  {
   "cell_type": "markdown",
   "metadata": {},
   "source": [
    "Accuracy :  \n",
    "1. 0.26531  \n",
    "2. 0.30125"
   ]
  },
  {
   "cell_type": "markdown",
   "metadata": {},
   "source": [
    "**Keeping emoji will improve accuracy.**"
   ]
  },
  {
   "cell_type": "markdown",
   "metadata": {},
   "source": [
    "### **2. Randomforest or XGBoost**"
   ]
  },
  {
   "cell_type": "markdown",
   "metadata": {},
   "source": [
    "1. sampling, BOW(feature=3000), randomforest(n_estimators=500, max_depth=100)\n",
    "2. sampling, BOW(feature=1500), XGBOOST(n_estimators=250, max_depth=50)"
   ]
  },
  {
   "cell_type": "markdown",
   "metadata": {},
   "source": [
    "Accuracy :  \n",
    "1. 0.33584\n",
    "2. 0.34594"
   ]
  },
  {
   "cell_type": "markdown",
   "metadata": {},
   "source": [
    "Although the parameters are different, the parameters of Random Forest are higher than XGBoost, but the accuracy is lower, **so I think XGBoost is better.**"
   ]
  },
  {
   "cell_type": "markdown",
   "metadata": {},
   "source": [
    "### **3. W2V or BOW**"
   ]
  },
  {
   "cell_type": "markdown",
   "metadata": {},
   "source": [
    "1. sampling, W2V(\"word2vec-google-news-300\"), XGBoost(n_estimators=250, max_depth=50)\n",
    "2. sampling, BOW(feature = 3000), XGBOOST(n_estimators=250, max_depth=50)"
   ]
  },
  {
   "cell_type": "markdown",
   "metadata": {},
   "source": [
    "Accuracy :  \n",
    "1. 0.32627  \n",
    "2. 0.35805"
   ]
  },
  {
   "cell_type": "markdown",
   "metadata": {},
   "source": [
    "### **4. Number of Features**"
   ]
  },
  {
   "cell_type": "markdown",
   "metadata": {},
   "source": [
    "1. sampling, BOW(feature = 3000), XGBOOST  \n",
    "2. sampling, BOW(feature = 5000), XGBOOST  \n",
    "3. sampling, BOW(feature = 10000), XGBOOST"
   ]
  },
  {
   "cell_type": "markdown",
   "metadata": {},
   "source": [
    "Accuracy :  \n",
    "1. 0.35805  \n",
    "2. 0.36365  \n",
    "3. 0.36797"
   ]
  },
  {
   "cell_type": "markdown",
   "metadata": {},
   "source": [
    "Increasing the number of features can improve the accuracy, but the improvement effect will be increasingly limited and the training time will be increased."
   ]
  },
  {
   "cell_type": "markdown",
   "metadata": {},
   "source": [
    "### **5. Sampling or not**"
   ]
  },
  {
   "cell_type": "markdown",
   "metadata": {},
   "source": [
    "1. sampling, use stopwords, BOW(feature = 10000), XGBOOST\n",
    "2. use stopwords, BOW(feature = 10000), XGBOOST"
   ]
  },
  {
   "cell_type": "markdown",
   "metadata": {},
   "source": [
    "Accuracy :  \n",
    "1. 0.36416\n",
    "2. 0.42963"
   ]
  },
  {
   "cell_type": "markdown",
   "metadata": {},
   "source": [
    "Using sampling can significantly reduce the amount of data, balance categories, and reduce training time. **However, the accuracy rate is still higher when using complete data.**"
   ]
  },
  {
   "cell_type": "markdown",
   "metadata": {},
   "source": [
    "I guess it’s because the amount of data is really different.  \n",
    "(14455563 vs 312000)"
   ]
  },
  {
   "cell_type": "markdown",
   "metadata": {},
   "source": [
    "### **6. use stopwords or not**"
   ]
  },
  {
   "cell_type": "markdown",
   "metadata": {},
   "source": [
    "1. use stopwords, BOW(feature = 10000), XGBOOST\n",
    "2. BOW(feature = 10000), XGBOOST"
   ]
  },
  {
   "cell_type": "markdown",
   "metadata": {},
   "source": [
    "Accuracy :  \n",
    "1. 0.42963\n",
    "2. 0.43519"
   ]
  },
  {
   "cell_type": "markdown",
   "metadata": {},
   "source": [
    "**Using stopwords may result in the deletion of some reference words.**"
   ]
  },
  {
   "cell_type": "markdown",
   "metadata": {},
   "source": [
    "It may be that the stopwords are useless because there are enough features. If we reduce the number of features, the results may be different."
   ]
  },
  {
   "cell_type": "markdown",
   "metadata": {},
   "source": [
    "___________"
   ]
  },
  {
   "cell_type": "markdown",
   "metadata": {},
   "source": [
    "## The most accurate version"
   ]
  },
  {
   "cell_type": "markdown",
   "metadata": {},
   "source": [
    "import"
   ]
  },
  {
   "cell_type": "code",
   "execution_count": null,
   "metadata": {},
   "outputs": [],
   "source": [
    "import json\n",
    "import pandas as pd\n",
    "\n",
    "train_df = pd.read_json('/kaggle/input/basic-dataset/train_data.json')\n",
    "test_df = pd.read_json('/kaggle/input/basic-dataset/test_data.json')\n",
    "\n",
    "print(train_df['text'].head())\n",
    "print(test_df['text'].head())"
   ]
  },
  {
   "cell_type": "markdown",
   "metadata": {},
   "source": [
    "split"
   ]
  },
  {
   "cell_type": "code",
   "execution_count": null,
   "metadata": {},
   "outputs": [],
   "source": [
    "from sklearn.model_selection import train_test_split\n",
    "\n",
    "X_train, X_test, y_train, y_test = train_test_split(train_df, train_df['emotion'], test_size=0.2, random_state=4, stratify=train_df['emotion'])\n",
    "print(train_df.shape)\n",
    "print(X_train.shape)"
   ]
  },
  {
   "cell_type": "markdown",
   "metadata": {},
   "source": [
    "BOW (feature = 10000)"
   ]
  },
  {
   "cell_type": "code",
   "execution_count": null,
   "metadata": {},
   "outputs": [],
   "source": [
    "import nltk\n",
    "from sklearn.feature_extraction.text import CountVectorizer\n",
    "\n",
    "BOW_10000 = CountVectorizer(max_features=10000, tokenizer=nltk.word_tokenize) \n",
    "BOW_10000.fit(train_df['text'])\n",
    "\n",
    "X_train = BOW_10000.transform(X_train['text'])\n",
    "X_test = BOW_10000.transform(X_test['text'])"
   ]
  },
  {
   "cell_type": "markdown",
   "metadata": {},
   "source": [
    "encode"
   ]
  },
  {
   "cell_type": "code",
   "execution_count": null,
   "metadata": {},
   "outputs": [],
   "source": [
    "from sklearn.preprocessing import LabelEncoder\n",
    "\n",
    "label_encoder = LabelEncoder()\n",
    "\n",
    "y_train_encoded = label_encoder.fit_transform(y_train)\n",
    "y_test_encoded = label_encoder.transform(y_test)\n",
    "\n",
    "print(label_encoder.classes_)\n",
    "print(y_train_encoded)"
   ]
  },
  {
   "cell_type": "markdown",
   "metadata": {},
   "source": [
    "XGBoost"
   ]
  },
  {
   "cell_type": "code",
   "execution_count": null,
   "metadata": {},
   "outputs": [],
   "source": [
    "from xgboost import XGBClassifier\n",
    "\n",
    "XGB_model = XGBClassifier(n_estimators=350,\n",
    "    learning_rate=0.1,\n",
    "    max_depth=35,\n",
    "    objective='multi:softprob',\n",
    "    num_class=8,\n",
    "    eval_metric='mlogloss',\n",
    "    use_label_encoder=False,\n",
    "    tree_method='hist',\n",
    "    device=\"cuda\")\n",
    "\n",
    "XGB_model=XGB_model.fit(X_train, y_train_encoded)\n",
    "print ('training finish!')\n",
    "\n",
    "y_train_pred = XGB_model.predict(X_train)\n",
    "print ('train data predict success!')\n",
    "y_test_pred = XGB_model.predict(X_test)\n",
    "print ('test data predict success!')"
   ]
  },
  {
   "cell_type": "markdown",
   "metadata": {},
   "source": [
    "decode"
   ]
  },
  {
   "cell_type": "code",
   "execution_count": null,
   "metadata": {},
   "outputs": [],
   "source": [
    "y_train_pred = label_encoder.inverse_transform(y_train_pred)\n",
    "print(y_train_pred)\n",
    "y_test_pred = label_encoder.inverse_transform(y_test_pred)\n",
    "print(y_test_pred)"
   ]
  },
  {
   "cell_type": "markdown",
   "metadata": {},
   "source": [
    "see the accuracy and report"
   ]
  },
  {
   "cell_type": "code",
   "execution_count": null,
   "metadata": {},
   "outputs": [],
   "source": [
    "from sklearn.metrics import classification_report\n",
    "from sklearn.metrics import accuracy_score\n",
    "\n",
    "acc_train = accuracy_score(y_true=y_train, y_pred=y_train_pred)\n",
    "acc_test = accuracy_score(y_true=y_test, y_pred=y_test_pred)\n",
    "\n",
    "print('training accuracy: {}'.format(round(acc_train, 2)))\n",
    "print('testing accuracy: {}'.format(round(acc_test, 2)))\n",
    "print(classification_report(y_true=y_test, y_pred=y_test_pred))"
   ]
  },
  {
   "cell_type": "markdown",
   "metadata": {},
   "source": [
    "training real test_df"
   ]
  },
  {
   "cell_type": "code",
   "execution_count": null,
   "metadata": {},
   "outputs": [],
   "source": [
    "predict_data = BOW_10000.transform(test_df['text'])\n",
    "\n",
    "predict_result_encoder = XGB_model.predict(predict_data)\n",
    "predict_result_encoder[:5]\n",
    "\n",
    "predict_result = label_encoder.inverse_transform(predict_result_encoder)\n",
    "print(predict_result)"
   ]
  },
  {
   "cell_type": "markdown",
   "metadata": {},
   "source": [
    "generate submission.csv "
   ]
  },
  {
   "cell_type": "code",
   "execution_count": null,
   "metadata": {},
   "outputs": [],
   "source": [
    "submission = pd.DataFrame({'id': test_df['tweet_id'], 'emotion': predict_result})\n",
    "submission.to_csv('submission.csv', index=False)"
   ]
  },
  {
   "cell_type": "markdown",
   "metadata": {},
   "source": [
    "### Result"
   ]
  },
  {
   "cell_type": "markdown",
   "metadata": {},
   "source": [
    "Public  Score : 0.43519  \n",
    "Private Score : 0.42179"
   ]
  }
 ],
 "metadata": {
  "kernelspec": {
   "display_name": "DMlab_new",
   "language": "python",
   "name": "python3"
  },
  "language_info": {
   "codemirror_mode": {
    "name": "ipython",
    "version": 3
   },
   "file_extension": ".py",
   "mimetype": "text/x-python",
   "name": "python",
   "nbconvert_exporter": "python",
   "pygments_lexer": "ipython3",
   "version": "3.9.6"
  },
  "varInspector": {
   "cols": {
    "lenName": 16,
    "lenType": 16,
    "lenVar": 40
   },
   "kernels_config": {
    "python": {
     "delete_cmd_postfix": "",
     "delete_cmd_prefix": "del ",
     "library": "var_list.py",
     "varRefreshCmd": "print(var_dic_list())"
    },
    "r": {
     "delete_cmd_postfix": ") ",
     "delete_cmd_prefix": "rm(",
     "library": "var_list.r",
     "varRefreshCmd": "cat(var_dic_list()) "
    }
   },
   "types_to_exclude": [
    "module",
    "function",
    "builtin_function_or_method",
    "instance",
    "_Feature"
   ],
   "window_display": false
  }
 },
 "nbformat": 4,
 "nbformat_minor": 2
}
